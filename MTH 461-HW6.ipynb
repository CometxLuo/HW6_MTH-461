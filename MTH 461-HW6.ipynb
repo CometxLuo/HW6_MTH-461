{
 "cells": [
  {
   "cell_type": "markdown",
   "id": "5b560398",
   "metadata": {},
   "source": [
    "$A$ is a demeaned data matrix.\n",
    "\n",
    "1. Compute the first, second and third principal axes of $A$.\n",
    "2. Compute the first principal component of $A$.\n",
    "3. Total variance of $A$.\n",
    "4. Fraction of the total variance of $A$ captured by the first principal component; fraction of the total variance captured by the first two principal components."
   ]
  },
  {
   "cell_type": "markdown",
   "id": "4ae2e69e",
   "metadata": {},
   "source": [
    "Import the modules we needed."
   ]
  },
  {
   "cell_type": "code",
   "execution_count": 1,
   "id": "d1aa55c8",
   "metadata": {},
   "outputs": [],
   "source": [
    "%matplotlib inline\n",
    "\n",
    "import pandas as pd\n",
    "import numpy as np\n",
    "import matplotlib.pyplot as plt\n",
    "import seaborn as sns"
   ]
  },
  {
   "cell_type": "markdown",
   "id": "a81f8c9d",
   "metadata": {},
   "source": [
    "Enter the data of matrix $A$ to the list `a`."
   ]
  },
  {
   "cell_type": "code",
   "execution_count": 2,
   "id": "ba9412f1",
   "metadata": {},
   "outputs": [],
   "source": [
    "a = [-27, 38, 37, 8, 22,0,14,-25,-35,-19,-23,-16,36,32,14,34,39,33,-40,-24,-24,-14,-3,-34,-2,-30,3,10,-26,22 ]"
   ]
  },
  {
   "cell_type": "markdown",
   "id": "7b068c6d",
   "metadata": {},
   "source": [
    "`A_demeaned` is an array of matrix $A$, which is already a demeaned matrix."
   ]
  },
  {
   "cell_type": "code",
   "execution_count": 3,
   "id": "a6e3d249",
   "metadata": {},
   "outputs": [
    {
     "data": {
      "text/plain": [
       "array([[-27,  38,  37],\n",
       "       [  8,  22,   0],\n",
       "       [ 14, -25, -35],\n",
       "       [-19, -23, -16],\n",
       "       [ 36,  32,  14],\n",
       "       [ 34,  39,  33],\n",
       "       [-40, -24, -24],\n",
       "       [-14,  -3, -34],\n",
       "       [ -2, -30,   3],\n",
       "       [ 10, -26,  22]])"
      ]
     },
     "execution_count": 3,
     "metadata": {},
     "output_type": "execute_result"
    }
   ],
   "source": [
    "A = np.array(a)\n",
    "A_demeaned = A.reshape(10,3)\n",
    "A_demeaned"
   ]
  },
  {
   "cell_type": "markdown",
   "id": "f941f045",
   "metadata": {},
   "source": [
    "Compute the covariance matrix `CA` of the demeaned matrix $A$. \n",
    "$$C_A = \\frac{1}{N}A^TA$$"
   ]
  },
  {
   "cell_type": "code",
   "execution_count": 4,
   "id": "96659acf",
   "metadata": {},
   "outputs": [
    {
     "name": "stdout",
     "output_type": "stream",
     "text": [
      "[[570.2 251.7 209.1]\n",
      " [251.7 778.8 440. ]\n",
      " [209.1 440.  636. ]]\n"
     ]
    }
   ],
   "source": [
    "N = A_demeaned.shape[0]     # rows of matrix A\n",
    "M = A_demeaned.shape[1]     # columns of matrix A\n",
    "\n",
    "CA = (1 / N) * A_demeaned.T @ A_demeaned\n",
    "\n",
    "with np.printoptions(precision=2):\n",
    "    print(CA)"
   ]
  },
  {
   "cell_type": "markdown",
   "id": "8205c346",
   "metadata": {},
   "source": [
    "The $i^{th}$ principal axis of $A$ is the vector $u_i$ such that the eigenvector of $C_A$ corresponding to the eigenvalues $\\lambda_i$ (order from largest to smallest)."
   ]
  },
  {
   "cell_type": "code",
   "execution_count": 5,
   "id": "12b48afb",
   "metadata": {},
   "outputs": [
    {
     "name": "stdout",
     "output_type": "stream",
     "text": [
      "[1299.88121785  423.55268294  261.56609921]\n",
      "[[ 0.4091695   0.91223061  0.02038715]\n",
      " [ 0.69594175 -0.29754986 -0.65355119]\n",
      " [ 0.59012321 -0.28160148  0.7566077 ]]\n"
     ]
    }
   ],
   "source": [
    "# eigenvals are the eigenvalues  of the covariance matrix\n",
    "# eigenvects are the eigenvectors of the covariance matrix\n",
    "eigenvals, eigenvects = np.linalg.eig(CA)\n",
    "\n",
    "# order the eigenvalues from the largest to the smallest \n",
    "order = np.argsort(eigenvals)[::-1]\n",
    "eigenvals = eigenvals[order]\n",
    "\n",
    "# and put the eigenvectors in the same order\n",
    "eigenvects = eigenvects[:, order]\n",
    "print(eigenvals)\n",
    "print(eigenvects)"
   ]
  },
  {
   "cell_type": "markdown",
   "id": "ee4259f7",
   "metadata": {},
   "source": [
    "First principal axes $u_1$ of $A$:"
   ]
  },
  {
   "cell_type": "code",
   "execution_count": 6,
   "id": "9b067763",
   "metadata": {},
   "outputs": [
    {
     "name": "stdout",
     "output_type": "stream",
     "text": [
      "[0.4091695  0.69594175 0.59012321]\n"
     ]
    }
   ],
   "source": [
    "u_1 = eigenvects[:,0]\n",
    "print(u_1)"
   ]
  },
  {
   "cell_type": "markdown",
   "id": "cc756fd2",
   "metadata": {},
   "source": [
    "Second principal axes $u_2$ of $A$:"
   ]
  },
  {
   "cell_type": "code",
   "execution_count": 7,
   "id": "4469e20c",
   "metadata": {},
   "outputs": [
    {
     "name": "stdout",
     "output_type": "stream",
     "text": [
      "[ 0.91223061 -0.29754986 -0.28160148]\n"
     ]
    }
   ],
   "source": [
    "u_2 = eigenvects[:,1]\n",
    "print(u_2)"
   ]
  },
  {
   "cell_type": "markdown",
   "id": "f655d2ba",
   "metadata": {},
   "source": [
    "Third principal axes $u_3$ of $A$:"
   ]
  },
  {
   "cell_type": "code",
   "execution_count": 8,
   "id": "267ec6a6",
   "metadata": {},
   "outputs": [
    {
     "name": "stdout",
     "output_type": "stream",
     "text": [
      "[ 0.02038715 -0.65355119  0.7566077 ]\n"
     ]
    }
   ],
   "source": [
    "u_3 = eigenvects[:,2]\n",
    "print(u_3)"
   ]
  },
  {
   "cell_type": "markdown",
   "id": "77401a65",
   "metadata": {},
   "source": [
    "$Y_1 = Au_1$ is the $1^{st}$ principal component of $A$.\n",
    "\n",
    "First principal component of $A$:"
   ]
  },
  {
   "cell_type": "code",
   "execution_count": 9,
   "id": "a993e395",
   "metadata": {},
   "outputs": [
    {
     "name": "stdout",
     "output_type": "stream",
     "text": [
      "[ 37.23276857  18.58407452 -32.32448294 -33.2228521   45.26196298\n",
      "  60.52755715 -47.23233906 -27.88038731 -19.92622189  -1.02007993]\n"
     ]
    }
   ],
   "source": [
    "Y_1 = A_demeaned @ u_1\n",
    "print(Y_1)"
   ]
  },
  {
   "cell_type": "markdown",
   "id": "ed8fd04f",
   "metadata": {},
   "source": [
    "The sum of entries on the diagonal of the covariance matrix $C_A$ gives the total variance:"
   ]
  },
  {
   "cell_type": "code",
   "execution_count": 10,
   "id": "4c43446d",
   "metadata": {},
   "outputs": [
    {
     "name": "stdout",
     "output_type": "stream",
     "text": [
      "1985.0\n"
     ]
    }
   ],
   "source": [
    "tot_variance = np.diag(CA).sum()\n",
    "print(tot_variance)"
   ]
  },
  {
   "cell_type": "markdown",
   "id": "bde4cc80",
   "metadata": {},
   "source": [
    "By dividing the largest eigenvalue by the total variance of the data, we can get the fraction of the variance which is captured by the first principal component of the data:"
   ]
  },
  {
   "cell_type": "code",
   "execution_count": 11,
   "id": "cea75488",
   "metadata": {},
   "outputs": [
    {
     "data": {
      "text/plain": [
       "0.6548519989167443"
      ]
     },
     "execution_count": 11,
     "metadata": {},
     "output_type": "execute_result"
    }
   ],
   "source": [
    "fr1 = eigenvals[0]/tot_variance\n",
    "fr1"
   ]
  },
  {
   "cell_type": "code",
   "execution_count": 12,
   "id": "3d45877e",
   "metadata": {},
   "outputs": [
    {
     "data": {
      "text/plain": [
       "0.65"
      ]
     },
     "execution_count": 12,
     "metadata": {},
     "output_type": "execute_result"
    }
   ],
   "source": [
    "np.round(fr1,2)"
   ]
  },
  {
   "cell_type": "markdown",
   "id": "34da22a2",
   "metadata": {},
   "source": [
    "By dividing the sum of the largest two eigenvalues by the total variance of the data, we can get the fraction of the total variance captured by the first two principal components:"
   ]
  },
  {
   "cell_type": "code",
   "execution_count": 13,
   "id": "aafd7fe3",
   "metadata": {},
   "outputs": [
    {
     "data": {
      "text/plain": [
       "0.8682286653848535"
      ]
     },
     "execution_count": 13,
     "metadata": {},
     "output_type": "execute_result"
    }
   ],
   "source": [
    "first_two = eigenvals[0] + eigenvals[1]\n",
    "fr2 = first_two/tot_variance\n",
    "fr2"
   ]
  },
  {
   "cell_type": "code",
   "execution_count": 14,
   "id": "5c69b19c",
   "metadata": {},
   "outputs": [
    {
     "data": {
      "text/plain": [
       "0.87"
      ]
     },
     "execution_count": 14,
     "metadata": {},
     "output_type": "execute_result"
    }
   ],
   "source": [
    "np.round(fr2,2)"
   ]
  },
  {
   "cell_type": "code",
   "execution_count": null,
   "id": "30c234ab",
   "metadata": {},
   "outputs": [],
   "source": []
  }
 ],
 "metadata": {
  "kernelspec": {
   "display_name": "Python 3 (ipykernel)",
   "language": "python",
   "name": "python3"
  },
  "language_info": {
   "codemirror_mode": {
    "name": "ipython",
    "version": 3
   },
   "file_extension": ".py",
   "mimetype": "text/x-python",
   "name": "python",
   "nbconvert_exporter": "python",
   "pygments_lexer": "ipython3",
   "version": "3.9.13"
  }
 },
 "nbformat": 4,
 "nbformat_minor": 5
}
